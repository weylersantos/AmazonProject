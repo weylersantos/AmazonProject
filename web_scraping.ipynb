{
 "cells": [
  {
   "cell_type": "code",
   "execution_count": 123,
   "metadata": {},
   "outputs": [],
   "source": [
    "#Importing the necessary package\n",
    "from bs4 import BeautifulSoup as bs\n",
    "import requests\n",
    "import pandas as pd\n",
    "import json\n",
    "from datetime import datetime\n",
    "import numpy as np"
   ]
  },
  {
   "cell_type": "code",
   "execution_count": 124,
   "metadata": {},
   "outputs": [],
   "source": [
    "#Getting the page information\n",
    "url = 'https://www.amazon.com.br/gp/bestsellers/books/'\n",
    "\n",
    "r = requests.get(url)\n",
    "soup = bs(r.content, 'html.parser')"
   ]
  },
  {
   "cell_type": "code",
   "execution_count": 125,
   "metadata": {},
   "outputs": [
    {
     "data": {
      "text/plain": [
       "50"
      ]
     },
     "execution_count": 125,
     "metadata": {},
     "output_type": "execute_result"
    }
   ],
   "source": [
    "#Analysing if we have all products from specific page\n",
    "results = soup.find_all('div', {'class': 'a-column a-span12 a-text-center _cDEzb_grid-column_2hIsc'})\n",
    "len(results)"
   ]
  },
  {
   "cell_type": "markdown",
   "metadata": {},
   "source": [
    "### Extracting information from a product"
   ]
  },
  {
   "cell_type": "code",
   "execution_count": 126,
   "metadata": {},
   "outputs": [],
   "source": [
    "# item = results[1]\n",
    "\n",
    "# dictionary = {\n",
    "#     'Position': item.find('span', {'class': 'zg-bdg-text'}).text.strip('#'),\n",
    "#     'Title': item.find('div', {'class': '_cDEzb_p13n-sc-css-line-clamp-1_1Fn1y'}).text,\n",
    "#     'Author': item.find('div', {'class': 'a-row a-size-small'}).text,\n",
    "#     'Stars': try:\n",
    "#                 item.find('span', {'class': 'a-icon-alt'}).text.split()[0]\n",
    "#              except AttributeError:\n",
    "#                 return\n",
    "#                 ,\n",
    "#     'Reviews': item.find(lambda tag: tag.name =='span' and tag.get('class') == ['a-size-small']).text\n",
    "# }   \n",
    "\n",
    "# dictionary\n"
   ]
  },
  {
   "cell_type": "code",
   "execution_count": 127,
   "metadata": {},
   "outputs": [],
   "source": [
    "# Creating a function to extract the informations product\n",
    "def extract_information(product):\n",
    "    position = product.find('span', {'class': 'zg-bdg-text'}).text.strip('#')\n",
    "    title = product.find('div', {'class': '_cDEzb_p13n-sc-css-line-clamp-1_1Fn1y'}).text\n",
    "    author = product.find('div', {'class': 'a-row a-size-small'}).text\n",
    "    \n",
    "    try:\n",
    "        stars = product.find('span', {'class': 'a-icon-alt'}).text.split()[0].replace(',','.')\n",
    "    except AttributeError:\n",
    "        stars=0\n",
    "\n",
    "    try:\n",
    "        reviews = product.find(lambda tag: tag.name =='span' and tag.get('class') == ['a-size-small']).text.replace('.','')\n",
    "    except AttributeError:\n",
    "        reviews = 0\n",
    "    day = datetime.now().strftime(\"%Y-%m-%d %H:%M\")\n",
    "    \n",
    "\n",
    "    results = [position, title, author, stars, reviews, day]\n",
    "\n",
    "    return results"
   ]
  },
  {
   "cell_type": "code",
   "execution_count": 128,
   "metadata": {},
   "outputs": [
    {
     "data": {
      "text/html": [
       "<div>\n",
       "<style scoped>\n",
       "    .dataframe tbody tr th:only-of-type {\n",
       "        vertical-align: middle;\n",
       "    }\n",
       "\n",
       "    .dataframe tbody tr th {\n",
       "        vertical-align: top;\n",
       "    }\n",
       "\n",
       "    .dataframe thead th {\n",
       "        text-align: right;\n",
       "    }\n",
       "</style>\n",
       "<table border=\"1\" class=\"dataframe\">\n",
       "  <thead>\n",
       "    <tr style=\"text-align: right;\">\n",
       "      <th></th>\n",
       "      <th>Position</th>\n",
       "      <th>Title</th>\n",
       "      <th>Author</th>\n",
       "      <th>Stars</th>\n",
       "      <th>Reviews</th>\n",
       "      <th>Date</th>\n",
       "    </tr>\n",
       "  </thead>\n",
       "  <tbody>\n",
       "    <tr>\n",
       "      <th>0</th>\n",
       "      <td>1</td>\n",
       "      <td>Junji Ito</td>\n",
       "      <td>Junji Ito</td>\n",
       "      <td>0</td>\n",
       "      <td>0</td>\n",
       "      <td>2022-11-13 18:31</td>\n",
       "    </tr>\n",
       "    <tr>\n",
       "      <th>1</th>\n",
       "      <td>2</td>\n",
       "      <td>É assim que começa (Vol. 2 É assim que acaba)</td>\n",
       "      <td>Colleen Hoover</td>\n",
       "      <td>4.8</td>\n",
       "      <td>2953</td>\n",
       "      <td>2022-11-13 18:31</td>\n",
       "    </tr>\n",
       "    <tr>\n",
       "      <th>2</th>\n",
       "      <td>3</td>\n",
       "      <td>E não sobrou nenhum</td>\n",
       "      <td>Agatha Christie</td>\n",
       "      <td>4.7</td>\n",
       "      <td>6768</td>\n",
       "      <td>2022-11-13 18:31</td>\n",
       "    </tr>\n",
       "    <tr>\n",
       "      <th>3</th>\n",
       "      <td>4</td>\n",
       "      <td>É Assim que Acaba: 1</td>\n",
       "      <td>Colleen Hoover</td>\n",
       "      <td>4.8</td>\n",
       "      <td>29705</td>\n",
       "      <td>2022-11-13 18:31</td>\n",
       "    </tr>\n",
       "    <tr>\n",
       "      <th>4</th>\n",
       "      <td>5</td>\n",
       "      <td>Kit Hopeless</td>\n",
       "      <td>Colleen Hoover</td>\n",
       "      <td>4.8</td>\n",
       "      <td>910</td>\n",
       "      <td>2022-11-13 18:31</td>\n",
       "    </tr>\n",
       "  </tbody>\n",
       "</table>\n",
       "</div>"
      ],
      "text/plain": [
       "  Position                                          Title           Author  \\\n",
       "0        1                                      Junji Ito        Junji Ito   \n",
       "1        2  É assim que começa (Vol. 2 É assim que acaba)   Colleen Hoover   \n",
       "2        3                            E não sobrou nenhum  Agatha Christie   \n",
       "3        4                           É Assim que Acaba: 1   Colleen Hoover   \n",
       "4        5                                   Kit Hopeless   Colleen Hoover   \n",
       "\n",
       "  Stars Reviews              Date  \n",
       "0     0       0  2022-11-13 18:31  \n",
       "1   4.8    2953  2022-11-13 18:31  \n",
       "2   4.7    6768  2022-11-13 18:31  \n",
       "3   4.8   29705  2022-11-13 18:31  \n",
       "4   4.8     910  2022-11-13 18:31  "
      ]
     },
     "execution_count": 128,
     "metadata": {},
     "output_type": "execute_result"
    }
   ],
   "source": [
    "#Creating a dataframe with information from each product\n",
    "product_infos = []\n",
    "\n",
    "for result in results:\n",
    "        product_infos.append(extract_information(result))\n",
    "\n",
    "df = pd.DataFrame(product_infos, columns=['Position', 'Title', 'Author', 'Stars', 'Reviews', 'Date'])\n",
    "df.head(5)"
   ]
  },
  {
   "cell_type": "code",
   "execution_count": 129,
   "metadata": {},
   "outputs": [
    {
     "data": {
      "text/html": [
       "<div>\n",
       "<style scoped>\n",
       "    .dataframe tbody tr th:only-of-type {\n",
       "        vertical-align: middle;\n",
       "    }\n",
       "\n",
       "    .dataframe tbody tr th {\n",
       "        vertical-align: top;\n",
       "    }\n",
       "\n",
       "    .dataframe thead th {\n",
       "        text-align: right;\n",
       "    }\n",
       "</style>\n",
       "<table border=\"1\" class=\"dataframe\">\n",
       "  <thead>\n",
       "    <tr style=\"text-align: right;\">\n",
       "      <th></th>\n",
       "      <th>Position</th>\n",
       "      <th>Title</th>\n",
       "      <th>Author</th>\n",
       "      <th>Stars</th>\n",
       "      <th>Reviews</th>\n",
       "      <th>Date</th>\n",
       "    </tr>\n",
       "  </thead>\n",
       "  <tbody>\n",
       "    <tr>\n",
       "      <th>0</th>\n",
       "      <td>1</td>\n",
       "      <td>Junji Ito</td>\n",
       "      <td>Junji Ito</td>\n",
       "      <td>0.0</td>\n",
       "      <td>0</td>\n",
       "      <td>2022-11-13 18:31</td>\n",
       "    </tr>\n",
       "    <tr>\n",
       "      <th>1</th>\n",
       "      <td>2</td>\n",
       "      <td>É assim que começa (Vol. 2 É assim que acaba)</td>\n",
       "      <td>Colleen Hoover</td>\n",
       "      <td>4.8</td>\n",
       "      <td>2953</td>\n",
       "      <td>2022-11-13 18:31</td>\n",
       "    </tr>\n",
       "    <tr>\n",
       "      <th>2</th>\n",
       "      <td>3</td>\n",
       "      <td>E não sobrou nenhum</td>\n",
       "      <td>Agatha Christie</td>\n",
       "      <td>4.7</td>\n",
       "      <td>6768</td>\n",
       "      <td>2022-11-13 18:31</td>\n",
       "    </tr>\n",
       "    <tr>\n",
       "      <th>3</th>\n",
       "      <td>4</td>\n",
       "      <td>É Assim que Acaba: 1</td>\n",
       "      <td>Colleen Hoover</td>\n",
       "      <td>4.8</td>\n",
       "      <td>29705</td>\n",
       "      <td>2022-11-13 18:31</td>\n",
       "    </tr>\n",
       "    <tr>\n",
       "      <th>4</th>\n",
       "      <td>5</td>\n",
       "      <td>Kit Hopeless</td>\n",
       "      <td>Colleen Hoover</td>\n",
       "      <td>4.8</td>\n",
       "      <td>910</td>\n",
       "      <td>2022-11-13 18:31</td>\n",
       "    </tr>\n",
       "  </tbody>\n",
       "</table>\n",
       "</div>"
      ],
      "text/plain": [
       "   Position                                          Title           Author  \\\n",
       "0         1                                      Junji Ito        Junji Ito   \n",
       "1         2  É assim que começa (Vol. 2 É assim que acaba)   Colleen Hoover   \n",
       "2         3                            E não sobrou nenhum  Agatha Christie   \n",
       "3         4                           É Assim que Acaba: 1   Colleen Hoover   \n",
       "4         5                                   Kit Hopeless   Colleen Hoover   \n",
       "\n",
       "   Stars  Reviews              Date  \n",
       "0    0.0        0  2022-11-13 18:31  \n",
       "1    4.8     2953  2022-11-13 18:31  \n",
       "2    4.7     6768  2022-11-13 18:31  \n",
       "3    4.8    29705  2022-11-13 18:31  \n",
       "4    4.8      910  2022-11-13 18:31  "
      ]
     },
     "execution_count": 129,
     "metadata": {},
     "output_type": "execute_result"
    }
   ],
   "source": [
    "# Changing column type\n",
    "df = df.astype({'Position': 'int',\n",
    "           'Stars': 'float',\n",
    "           'Reviews': 'int'})\n",
    "\n",
    "df.head()"
   ]
  },
  {
   "cell_type": "markdown",
   "metadata": {},
   "source": [
    "### Inserting results in Database"
   ]
  },
  {
   "cell_type": "code",
   "execution_count": 130,
   "metadata": {},
   "outputs": [],
   "source": [
    "import pyodbc\n",
    "\n",
    "conn = pyodbc.connect(\n",
    "    \"Driver={SQL Server Native Client 11.0};\"\n",
    "    \"Server=DESKTOP-AV9L7C3;\"\n",
    "    \"Database=Amazon;\"\n",
    "    \"Trusted_Connection=yes;\"\n",
    ")\n",
    "\n",
    "cursor = conn.cursor()"
   ]
  },
  {
   "cell_type": "code",
   "execution_count": 131,
   "metadata": {},
   "outputs": [],
   "source": [
    "for i, Position in enumerate(df['Position']):\n",
    "    Title = df.loc[i, 'Title']\n",
    "    Author = df.loc[i, 'Author']\n",
    "    Stars = df.loc[i, 'Stars']\n",
    "    Reviews = df.loc[i, 'Reviews']\n",
    "    Date = df.loc[i, 'Date']\n",
    "\n",
    "    dados = str(Position) + ',\\'' + Title + '\\'' + ',\\'' + Author + '\\'' + ',' + str(Stars) + ','  + str(Reviews) + ',\\'' + Date + '\\')'\n",
    "    script = '''INSERT INTO Product_Information (Position, Title, Author, Stars, Reviews, Extraction_Date) VALUES('''\n",
    "    query = script+dados\n",
    "    # print(query)\n",
    "    cursor.execute(query)\n",
    "    cursor.commit()\n"
   ]
  }
 ],
 "metadata": {
  "kernelspec": {
   "display_name": "Python 3.9.13 64-bit",
   "language": "python",
   "name": "python3"
  },
  "language_info": {
   "codemirror_mode": {
    "name": "ipython",
    "version": 3
   },
   "file_extension": ".py",
   "mimetype": "text/x-python",
   "name": "python",
   "nbconvert_exporter": "python",
   "pygments_lexer": "ipython3",
   "version": "3.9.13"
  },
  "orig_nbformat": 4,
  "vscode": {
   "interpreter": {
    "hash": "71e06901d419b9cdf7d6fd83d9099d502275cc05609ae6f5edbbf6185f819ed3"
   }
  }
 },
 "nbformat": 4,
 "nbformat_minor": 2
}
