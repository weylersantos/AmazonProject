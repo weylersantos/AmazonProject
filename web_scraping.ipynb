{
 "cells": [
  {
   "cell_type": "code",
   "execution_count": 1,
   "metadata": {},
   "outputs": [],
   "source": [
    "#Importing the necessary package\n",
    "from bs4 import BeautifulSoup as bs\n",
    "import requests\n",
    "import pandas as pd\n",
    "import json\n",
    "from datetime import datetime\n",
    "import numpy as np\n",
    "import pyodbc\n",
    "\n",
    "# Creating connection with the database\n",
    "conn = pyodbc.connect(\n",
    "    \"Driver={SQL Server Native Client 11.0};\"\n",
    "    \"Server=DESKTOP-AV9L7C3;\"\n",
    "    \"Database=Amazon;\"\n",
    "    \"Trusted_Connection=yes\"\n",
    ")\n",
    "\n",
    "cursor = conn.cursor()"
   ]
  },
  {
   "cell_type": "code",
   "execution_count": 2,
   "metadata": {},
   "outputs": [],
   "source": [
    "#Getting the page information\n",
    "url = 'https://www.amazon.com.br/gp/bestsellers/books/'\n",
    "\n",
    "r = requests.get(url)\n",
    "soup = bs(r.content, 'html.parser')"
   ]
  },
  {
   "cell_type": "code",
   "execution_count": 3,
   "metadata": {},
   "outputs": [
    {
     "data": {
      "text/plain": [
       "50"
      ]
     },
     "execution_count": 3,
     "metadata": {},
     "output_type": "execute_result"
    }
   ],
   "source": [
    "#Analysing if we have all products from specific page\n",
    "results = soup.find_all('div', {'class': 'a-column a-span12 a-text-center _cDEzb_grid-column_2hIsc'})\n",
    "len(results)"
   ]
  },
  {
   "cell_type": "code",
   "execution_count": 4,
   "metadata": {},
   "outputs": [],
   "source": [
    "# Creating a function to extract the informations product\n",
    "def extract_information(product):\n",
    "    position = product.find('span', {'class': 'zg-bdg-text'}).text.strip('#')\n",
    "    title = product.find('div', {'class': '_cDEzb_p13n-sc-css-line-clamp-1_1Fn1y'}).text\n",
    "    author = product.find('div', {'class': 'a-row a-size-small'}).text\n",
    "    \n",
    "    try:\n",
    "        stars = product.find('span', {'class': 'a-icon-alt'}).text.split()[0].replace(',','.')\n",
    "    except AttributeError:\n",
    "        stars=0\n",
    "\n",
    "    try:\n",
    "        reviews = product.find(lambda tag: tag.name =='span' and tag.get('class') == ['a-size-small']).text.replace('.','')\n",
    "    except AttributeError:\n",
    "        reviews = 0    \n",
    "\n",
    "    results = [position, title, author, stars, reviews]\n",
    "\n",
    "    return results\n"
   ]
  },
  {
   "cell_type": "code",
   "execution_count": 5,
   "metadata": {},
   "outputs": [],
   "source": [
    "#Creating a dataframe with information from each product\n",
    "product_infos = []\n",
    "\n",
    "for result in results:\n",
    "        product_infos.append(extract_information(result))\n",
    "\n",
    "df = pd.DataFrame(product_infos, columns=['Position', 'Title', 'Author', 'Stars', 'Reviews'])"
   ]
  },
  {
   "cell_type": "code",
   "execution_count": 6,
   "metadata": {},
   "outputs": [
    {
     "data": {
      "text/html": [
       "<div>\n",
       "<style scoped>\n",
       "    .dataframe tbody tr th:only-of-type {\n",
       "        vertical-align: middle;\n",
       "    }\n",
       "\n",
       "    .dataframe tbody tr th {\n",
       "        vertical-align: top;\n",
       "    }\n",
       "\n",
       "    .dataframe thead th {\n",
       "        text-align: right;\n",
       "    }\n",
       "</style>\n",
       "<table border=\"1\" class=\"dataframe\">\n",
       "  <thead>\n",
       "    <tr style=\"text-align: right;\">\n",
       "      <th></th>\n",
       "      <th>Position</th>\n",
       "      <th>Title</th>\n",
       "      <th>Author</th>\n",
       "      <th>Stars</th>\n",
       "      <th>Reviews</th>\n",
       "    </tr>\n",
       "  </thead>\n",
       "  <tbody>\n",
       "    <tr>\n",
       "      <th>0</th>\n",
       "      <td>1</td>\n",
       "      <td>Mentirosos – Sucesso no TikTok</td>\n",
       "      <td>E. Lockhart</td>\n",
       "      <td>4.5</td>\n",
       "      <td>18130</td>\n",
       "    </tr>\n",
       "    <tr>\n",
       "      <th>1</th>\n",
       "      <td>2</td>\n",
       "      <td>É assim que começa (Vol. 2 É assim que acaba)</td>\n",
       "      <td>Colleen Hoover</td>\n",
       "      <td>4.8</td>\n",
       "      <td>34355</td>\n",
       "    </tr>\n",
       "    <tr>\n",
       "      <th>2</th>\n",
       "      <td>3</td>\n",
       "      <td>Da Silva: a Grande Fake News da Esquerda: o Pe...</td>\n",
       "      <td>Pavinatto</td>\n",
       "      <td>4.8</td>\n",
       "      <td>401</td>\n",
       "    </tr>\n",
       "    <tr>\n",
       "      <th>3</th>\n",
       "      <td>4</td>\n",
       "      <td>Hamnet: Edição especial com brindes e revista ...</td>\n",
       "      <td>Maggie O'Farrell</td>\n",
       "      <td>4.7</td>\n",
       "      <td>510</td>\n",
       "    </tr>\n",
       "    <tr>\n",
       "      <th>4</th>\n",
       "      <td>5</td>\n",
       "      <td>Goseki Kojima</td>\n",
       "      <td>Goseki Kojima</td>\n",
       "      <td>0.0</td>\n",
       "      <td>0</td>\n",
       "    </tr>\n",
       "  </tbody>\n",
       "</table>\n",
       "</div>"
      ],
      "text/plain": [
       "   Position                                              Title  \\\n",
       "0         1                     Mentirosos – Sucesso no TikTok   \n",
       "1         2      É assim que começa (Vol. 2 É assim que acaba)   \n",
       "2         3  Da Silva: a Grande Fake News da Esquerda: o Pe...   \n",
       "3         4  Hamnet: Edição especial com brindes e revista ...   \n",
       "4         5                                      Goseki Kojima   \n",
       "\n",
       "             Author  Stars  Reviews  \n",
       "0       E. Lockhart    4.5    18130  \n",
       "1    Colleen Hoover    4.8    34355  \n",
       "2         Pavinatto    4.8      401  \n",
       "3  Maggie O'Farrell    4.7      510  \n",
       "4     Goseki Kojima    0.0        0  "
      ]
     },
     "execution_count": 6,
     "metadata": {},
     "output_type": "execute_result"
    }
   ],
   "source": [
    "# Changing column type\n",
    "df = df.astype({'Position': 'int',\n",
    "           'Stars': 'float',\n",
    "           'Reviews': 'int'})\n",
    "\n",
    "df.head()"
   ]
  },
  {
   "cell_type": "code",
   "execution_count": 7,
   "metadata": {},
   "outputs": [],
   "source": [
    "# The last part is to insert the values inside our database, and then we can analyze and make decisions.\n",
    "sql = '''\n",
    "INSERT INTO ProductsInformation (Position, Title, Author, Stars, Reviews) VALUES (?, ?, ?, ?, ?)\n",
    "'''\n",
    "\n",
    "cursor.fast_executemany = True\n",
    "\n",
    "cursor.executemany(sql, df.values.tolist())\n",
    "\n",
    "conn.commit()"
   ]
  }
 ],
 "metadata": {
  "kernelspec": {
   "display_name": "Python 3",
   "language": "python",
   "name": "python3"
  },
  "language_info": {
   "codemirror_mode": {
    "name": "ipython",
    "version": 3
   },
   "file_extension": ".py",
   "mimetype": "text/x-python",
   "name": "python",
   "nbconvert_exporter": "python",
   "pygments_lexer": "ipython3",
   "version": "3.9.13"
  },
  "orig_nbformat": 4
 },
 "nbformat": 4,
 "nbformat_minor": 2
}
